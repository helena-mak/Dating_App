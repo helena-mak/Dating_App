{
 "cells": [
  {
   "cell_type": "code",
   "execution_count": 26,
   "metadata": {},
   "outputs": [],
   "source": [
    "#импорт библиотек для работы\n",
    "import pandas as pd\n",
    "import numpy as np\n",
    "\n",
    "%matplotlib inline\n",
    "import matplotlib.pyplot as plt\n",
    "import seaborn as sns\n",
    "\n",
    "from scipy.stats import ttest_ind\n",
    "from scipy.stats import levene"
   ]
  },
  {
   "cell_type": "code",
   "execution_count": 3,
   "metadata": {},
   "outputs": [],
   "source": [
    "#чтение и запись данных для работы\n",
    "dating_data_df = pd.read_csv('../AB test/dating_data.csv')"
   ]
  },
  {
   "cell_type": "code",
   "execution_count": 4,
   "metadata": {},
   "outputs": [
    {
     "data": {
      "text/html": [
       "<div>\n",
       "<style scoped>\n",
       "    .dataframe tbody tr th:only-of-type {\n",
       "        vertical-align: middle;\n",
       "    }\n",
       "\n",
       "    .dataframe tbody tr th {\n",
       "        vertical-align: top;\n",
       "    }\n",
       "\n",
       "    .dataframe thead th {\n",
       "        text-align: right;\n",
       "    }\n",
       "</style>\n",
       "<table border=\"1\" class=\"dataframe\">\n",
       "  <thead>\n",
       "    <tr style=\"text-align: right;\">\n",
       "      <th></th>\n",
       "      <th>user_id_1</th>\n",
       "      <th>user_id_2</th>\n",
       "      <th>group</th>\n",
       "      <th>is_match</th>\n",
       "    </tr>\n",
       "  </thead>\n",
       "  <tbody>\n",
       "    <tr>\n",
       "      <th>0</th>\n",
       "      <td>79</td>\n",
       "      <td>91</td>\n",
       "      <td>1</td>\n",
       "      <td>1</td>\n",
       "    </tr>\n",
       "    <tr>\n",
       "      <th>1</th>\n",
       "      <td>716</td>\n",
       "      <td>353</td>\n",
       "      <td>1</td>\n",
       "      <td>1</td>\n",
       "    </tr>\n",
       "    <tr>\n",
       "      <th>2</th>\n",
       "      <td>423</td>\n",
       "      <td>677</td>\n",
       "      <td>0</td>\n",
       "      <td>0</td>\n",
       "    </tr>\n",
       "    <tr>\n",
       "      <th>3</th>\n",
       "      <td>658</td>\n",
       "      <td>165</td>\n",
       "      <td>1</td>\n",
       "      <td>1</td>\n",
       "    </tr>\n",
       "    <tr>\n",
       "      <th>4</th>\n",
       "      <td>969</td>\n",
       "      <td>155</td>\n",
       "      <td>0</td>\n",
       "      <td>1</td>\n",
       "    </tr>\n",
       "  </tbody>\n",
       "</table>\n",
       "</div>"
      ],
      "text/plain": [
       "   user_id_1  user_id_2  group  is_match\n",
       "0         79         91      1         1\n",
       "1        716        353      1         1\n",
       "2        423        677      0         0\n",
       "3        658        165      1         1\n",
       "4        969        155      0         1"
      ]
     },
     "execution_count": 4,
     "metadata": {},
     "output_type": "execute_result"
    }
   ],
   "source": [
    "dating_data_df.head()"
   ]
  },
  {
   "cell_type": "markdown",
   "metadata": {},
   "source": [
    "## Предварительный анализ данных"
   ]
  },
  {
   "cell_type": "code",
   "execution_count": 5,
   "metadata": {},
   "outputs": [
    {
     "data": {
      "text/plain": [
       "user_id_1    0\n",
       "user_id_2    0\n",
       "group        0\n",
       "is_match     0\n",
       "dtype: int64"
      ]
     },
     "execution_count": 5,
     "metadata": {},
     "output_type": "execute_result"
    }
   ],
   "source": [
    "#проверим на наличие пропущенных данных \n",
    "dating_data_df.isnull().sum()"
   ]
  },
  {
   "cell_type": "code",
   "execution_count": 7,
   "metadata": {},
   "outputs": [
    {
     "name": "stdout",
     "output_type": "stream",
     "text": [
      "Переменная user_id_1 содержит 1000 уникальных значений\n",
      "Переменная user_id_2 содержит 1000 уникальных значений\n"
     ]
    }
   ],
   "source": [
    "#посмотрим, сколько уникальных значений содержится в колонке user_id_1 и user_id_2\n",
    "print('Переменная user_id_1 содержит', dating_data_df['user_id_1'].nunique(), 'уникальных значений')\n",
    "print('Переменная user_id_2 содержит', dating_data_df['user_id_2'].nunique(), 'уникальных значений')"
   ]
  },
  {
   "cell_type": "code",
   "execution_count": 22,
   "metadata": {},
   "outputs": [
    {
     "name": "stdout",
     "output_type": "stream",
     "text": [
      "Значения не совпадают\n"
     ]
    }
   ],
   "source": [
    "#проверим, совпадает ли набор значений в столбце user_id_1 со значениями из user_id_2\n",
    "if dating_data_df['user_id_1'].sort_values().reset_index(drop=True).equals(dating_data_df['user_id_2'].sort_values().reset_index(drop=True)):\n",
    "    print(\"Значения совпадают\")\n",
    "else:\n",
    "    print(\"Значения не совпадают\")"
   ]
  },
  {
   "cell_type": "code",
   "execution_count": 10,
   "metadata": {},
   "outputs": [
    {
     "data": {
      "text/plain": [
       "user_id_1     Нет совпадений\n",
       "user_id_2     Нет совпадений\n",
       "group        Есть совпадения\n",
       "is_match     Есть совпадения\n",
       "dtype: object"
      ]
     },
     "execution_count": 10,
     "metadata": {},
     "output_type": "execute_result"
    }
   ],
   "source": [
    "# проверим отсутствие случаев, когда в одной строке одновременно совпадают значения в колонке user_id_1 и user_id_2\n",
    "#пользователь метчится с другим пользователям, не с самим собой\n",
    "def rule(id):\n",
    "    if id[0] == id[1]:\n",
    "        return 'Есть совпадения'\n",
    "    else:\n",
    "        return 'Нет совпадений'\n",
    "dating_data_df.apply(rule)"
   ]
  },
  {
   "cell_type": "code",
   "execution_count": 11,
   "metadata": {},
   "outputs": [
    {
     "data": {
      "text/html": [
       "<div>\n",
       "<style scoped>\n",
       "    .dataframe tbody tr th:only-of-type {\n",
       "        vertical-align: middle;\n",
       "    }\n",
       "\n",
       "    .dataframe tbody tr th {\n",
       "        vertical-align: top;\n",
       "    }\n",
       "\n",
       "    .dataframe thead th {\n",
       "        text-align: right;\n",
       "    }\n",
       "</style>\n",
       "<table border=\"1\" class=\"dataframe\">\n",
       "  <thead>\n",
       "    <tr style=\"text-align: right;\">\n",
       "      <th></th>\n",
       "      <th>group</th>\n",
       "      <th>sum_values</th>\n",
       "    </tr>\n",
       "  </thead>\n",
       "  <tbody>\n",
       "    <tr>\n",
       "      <th>0</th>\n",
       "      <td>0</td>\n",
       "      <td>501</td>\n",
       "    </tr>\n",
       "    <tr>\n",
       "      <th>1</th>\n",
       "      <td>1</td>\n",
       "      <td>499</td>\n",
       "    </tr>\n",
       "  </tbody>\n",
       "</table>\n",
       "</div>"
      ],
      "text/plain": [
       "   group  sum_values\n",
       "0      0         501\n",
       "1      1         499"
      ]
     },
     "execution_count": 11,
     "metadata": {},
     "output_type": "execute_result"
    }
   ],
   "source": [
    "#посмотрим, сколько уникальных пользователей принадлежат к каждой группе:\n",
    "# 0 = старые алгоритмы, 1 = новые алгоритмы\n",
    "dating_data_df.groupby('group', as_index=False) \\\n",
    "              .agg({'user_id_1':'nunique'}) \\\n",
    "              .rename(columns={'user_id_1':'sum_values'})"
   ]
  },
  {
   "cell_type": "markdown",
   "metadata": {},
   "source": [
    "### Описание наших данных\n",
    "Всего у нас 1 000 уникальных пользователей приложения, которые участвовали в AB тестировании. Будем считать, что каждое уникальное значение в  колонке user_id_1 и user_id_2 - это уникальный id нашего пользователя. Колонка user_id_1 - в ней сохранены те пользователи, которые ставят лайк/дизлайк пользователям в колонке user_id_2 и мы используем ее в анализе\n",
    "\n",
    "group - к какой группе принадлежит пользователь. 0 - пользователи, которые используют приложение со старым алгоритмом (контрольная группа). 1 - пользователи, которые используют приложение с новым алгоритмом (тестируемая группа). В контрольной группе у нас 501 пользователей, в тестируемой 499 пользователей. \n",
    "\n",
    "is_match = 0, то мэтч между двумя пользователями не произошел, is_match = 1, пользователи поставили друг другу взаимные лайки (произошел мэтч).\n",
    "\n",
    "## Метрики и гипотезы \n",
    "\n",
    "Основная цель нашего тестирования - оценка нового алгоритма и правда ли он улучшил качество сервиса. Нашим сервисом является приложение для онлайн-знакомства, где конечная цель пользователя - познакомиться с другим пользователем. Исходя из этого и механики приложение (пользователи ставят лайки или дизлайки), то целевой метрикой нашего приложения будет соотношение мэтчей ко всем лайкам пользователя (процент мэтчей). Дополнительной метрикой -  количество активностей на 1 пользователя (независимая от долей мэтчей метрика). \n",
    "\n",
    "Наши продуктовые гипотезы - \n",
    "1. Новый алгоритм предлагает пользователям более подходящие анкеты, чем старый алгоритм. Это увеличило соотношение мэтчей ко всем лайкам за счет того, что пользователи получали взаимный лайк от других быстрее (им требовалось меньше действий, чем пользователям из контрольной группы). \n",
    "2. Благодаря новому алгоритму среднее число активностей на пользователя увеличилось"
   ]
  },
  {
   "cell_type": "markdown",
   "metadata": {},
   "source": [
    "**Рассмотрим статистику по нашим метрикам для пользователей контрольной и тестовых групп - соотношение мэтчей ко всем лайкам и количество активностей** "
   ]
  },
  {
   "cell_type": "markdown",
   "metadata": {},
   "source": [
    "Пользователи из контрольной группы, которые используют приложение со старым алгоритмом"
   ]
  },
  {
   "cell_type": "code",
   "execution_count": 12,
   "metadata": {},
   "outputs": [
    {
     "data": {
      "text/html": [
       "<div>\n",
       "<style scoped>\n",
       "    .dataframe tbody tr th:only-of-type {\n",
       "        vertical-align: middle;\n",
       "    }\n",
       "\n",
       "    .dataframe tbody tr th {\n",
       "        vertical-align: top;\n",
       "    }\n",
       "\n",
       "    .dataframe thead th {\n",
       "        text-align: right;\n",
       "    }\n",
       "</style>\n",
       "<table border=\"1\" class=\"dataframe\">\n",
       "  <thead>\n",
       "    <tr style=\"text-align: right;\">\n",
       "      <th></th>\n",
       "      <th>user_id_1</th>\n",
       "      <th>likes_0</th>\n",
       "      <th>is_match_0</th>\n",
       "      <th>perc_match_0</th>\n",
       "    </tr>\n",
       "  </thead>\n",
       "  <tbody>\n",
       "    <tr>\n",
       "      <th>403</th>\n",
       "      <td>797</td>\n",
       "      <td>6</td>\n",
       "      <td>4</td>\n",
       "      <td>66.67</td>\n",
       "    </tr>\n",
       "    <tr>\n",
       "      <th>480</th>\n",
       "      <td>967</td>\n",
       "      <td>3</td>\n",
       "      <td>2</td>\n",
       "      <td>66.67</td>\n",
       "    </tr>\n",
       "    <tr>\n",
       "      <th>466</th>\n",
       "      <td>943</td>\n",
       "      <td>3</td>\n",
       "      <td>2</td>\n",
       "      <td>66.67</td>\n",
       "    </tr>\n",
       "    <tr>\n",
       "      <th>33</th>\n",
       "      <td>65</td>\n",
       "      <td>5</td>\n",
       "      <td>3</td>\n",
       "      <td>60.00</td>\n",
       "    </tr>\n",
       "    <tr>\n",
       "      <th>366</th>\n",
       "      <td>714</td>\n",
       "      <td>16</td>\n",
       "      <td>9</td>\n",
       "      <td>56.25</td>\n",
       "    </tr>\n",
       "  </tbody>\n",
       "</table>\n",
       "</div>"
      ],
      "text/plain": [
       "     user_id_1  likes_0  is_match_0  perc_match_0\n",
       "403        797        6           4         66.67\n",
       "480        967        3           2         66.67\n",
       "466        943        3           2         66.67\n",
       "33          65        5           3         60.00\n",
       "366        714       16           9         56.25"
      ]
     },
     "execution_count": 12,
     "metadata": {},
     "output_type": "execute_result"
    }
   ],
   "source": [
    "likes_users_0 = dating_data_df.query('group == 0') \\\n",
    "              .groupby('user_id_1', as_index=False) \\\n",
    "              .agg({'user_id_2':'count', 'is_match':'sum'}) \\\n",
    "              .rename(columns={'user_id_2':'likes_0', 'is_match':'is_match_0'}) \\\n",
    "              .assign(perc_match_0 = lambda x: x['is_match_0'] / x['likes_0'] * 100).round(2) \\\n",
    "              .sort_values('perc_match_0', ascending=False)\n",
    "likes_users_0.head()"
   ]
  },
  {
   "cell_type": "code",
   "execution_count": 13,
   "metadata": {},
   "outputs": [
    {
     "data": {
      "text/html": [
       "<div>\n",
       "<style scoped>\n",
       "    .dataframe tbody tr th:only-of-type {\n",
       "        vertical-align: middle;\n",
       "    }\n",
       "\n",
       "    .dataframe tbody tr th {\n",
       "        vertical-align: top;\n",
       "    }\n",
       "\n",
       "    .dataframe thead th {\n",
       "        text-align: right;\n",
       "    }\n",
       "</style>\n",
       "<table border=\"1\" class=\"dataframe\">\n",
       "  <thead>\n",
       "    <tr style=\"text-align: right;\">\n",
       "      <th></th>\n",
       "      <th>user_id_1</th>\n",
       "      <th>likes_0</th>\n",
       "      <th>is_match_0</th>\n",
       "      <th>perc_match_0</th>\n",
       "    </tr>\n",
       "  </thead>\n",
       "  <tbody>\n",
       "    <tr>\n",
       "      <th>count</th>\n",
       "      <td>501.000000</td>\n",
       "      <td>501.000000</td>\n",
       "      <td>501.000000</td>\n",
       "      <td>501.000000</td>\n",
       "    </tr>\n",
       "    <tr>\n",
       "      <th>mean</th>\n",
       "      <td>497.371257</td>\n",
       "      <td>9.564870</td>\n",
       "      <td>1.864271</td>\n",
       "      <td>19.409701</td>\n",
       "    </tr>\n",
       "    <tr>\n",
       "      <th>std</th>\n",
       "      <td>289.301417</td>\n",
       "      <td>3.056515</td>\n",
       "      <td>1.361448</td>\n",
       "      <td>13.429961</td>\n",
       "    </tr>\n",
       "    <tr>\n",
       "      <th>min</th>\n",
       "      <td>4.000000</td>\n",
       "      <td>1.000000</td>\n",
       "      <td>0.000000</td>\n",
       "      <td>0.000000</td>\n",
       "    </tr>\n",
       "    <tr>\n",
       "      <th>25%</th>\n",
       "      <td>246.000000</td>\n",
       "      <td>8.000000</td>\n",
       "      <td>1.000000</td>\n",
       "      <td>10.000000</td>\n",
       "    </tr>\n",
       "    <tr>\n",
       "      <th>50%</th>\n",
       "      <td>497.000000</td>\n",
       "      <td>9.000000</td>\n",
       "      <td>2.000000</td>\n",
       "      <td>18.180000</td>\n",
       "    </tr>\n",
       "    <tr>\n",
       "      <th>75%</th>\n",
       "      <td>739.000000</td>\n",
       "      <td>12.000000</td>\n",
       "      <td>3.000000</td>\n",
       "      <td>27.270000</td>\n",
       "    </tr>\n",
       "    <tr>\n",
       "      <th>max</th>\n",
       "      <td>999.000000</td>\n",
       "      <td>20.000000</td>\n",
       "      <td>9.000000</td>\n",
       "      <td>66.670000</td>\n",
       "    </tr>\n",
       "  </tbody>\n",
       "</table>\n",
       "</div>"
      ],
      "text/plain": [
       "        user_id_1     likes_0  is_match_0  perc_match_0\n",
       "count  501.000000  501.000000  501.000000    501.000000\n",
       "mean   497.371257    9.564870    1.864271     19.409701\n",
       "std    289.301417    3.056515    1.361448     13.429961\n",
       "min      4.000000    1.000000    0.000000      0.000000\n",
       "25%    246.000000    8.000000    1.000000     10.000000\n",
       "50%    497.000000    9.000000    2.000000     18.180000\n",
       "75%    739.000000   12.000000    3.000000     27.270000\n",
       "max    999.000000   20.000000    9.000000     66.670000"
      ]
     },
     "execution_count": 13,
     "metadata": {},
     "output_type": "execute_result"
    }
   ],
   "source": [
    "likes_users_0.describe()"
   ]
  },
  {
   "cell_type": "markdown",
   "metadata": {},
   "source": [
    "В группе пользователей старого алгоритма в среднем на пользователя приходится 9.6 активностей, а доля мэтчей ко всем лайкам - 19.4% (только 1 из 5 лайков заканчивается взаимным мэтчем). Также у нас есть единичные пользователи, у которых количество активностей больше 12 и процент мэтчей больше 50%. А также у нас есть пользователи, у которых нет мэтчей с другими пользователями и у которых почти нет активностей (1 активность). "
   ]
  },
  {
   "cell_type": "code",
   "execution_count": 18,
   "metadata": {},
   "outputs": [
    {
     "data": {
      "image/png": "[encoded data removed]",
      "text/plain": [
       "<Figure size 864x432 with 2 Axes>"
      ]
     },
     "metadata": {
      "needs_background": "light"
     },
     "output_type": "display_data"
    }
   ],
   "source": [
    "fig, axs = plt.subplots(1, 2, figsize=(12, 6))\n",
    "\n",
    "# Первый график - количество активностей\n",
    "sns.histplot(likes_users_0['likes_0'], ax=axs[0])\n",
    "axs[0].set_title('Количество активностей на пользователя контрольной группы')\n",
    "axs[0].set_ylabel('Количество пользователей')\n",
    "axs[0].set_xlabel('Количество активностей')\n",
    "\n",
    "# Второй график - процент мэтчей\n",
    "sns.histplot(likes_users_0['perc_match_0'], ax=axs[1])\n",
    "axs[1].set_title('Доля мэтчей контрольной группы')\n",
    "axs[1].set_ylabel('Количество пользователей')\n",
    "axs[1].set_xlabel('Процент мэтчей')\n",
    "\n",
    "plt.show()\n"
   ]
  },
  {
   "cell_type": "markdown",
   "metadata": {},
   "source": [
    "Пользователи из тестовой группы, которые используют приложение с новым алгоритмом"
   ]
  },
  {
   "cell_type": "code",
   "execution_count": 16,
   "metadata": {},
   "outputs": [
    {
     "data": {
      "text/html": [
       "<div>\n",
       "<style scoped>\n",
       "    .dataframe tbody tr th:only-of-type {\n",
       "        vertical-align: middle;\n",
       "    }\n",
       "\n",
       "    .dataframe tbody tr th {\n",
       "        vertical-align: top;\n",
       "    }\n",
       "\n",
       "    .dataframe thead th {\n",
       "        text-align: right;\n",
       "    }\n",
       "</style>\n",
       "<table border=\"1\" class=\"dataframe\">\n",
       "  <thead>\n",
       "    <tr style=\"text-align: right;\">\n",
       "      <th></th>\n",
       "      <th>user_id_1</th>\n",
       "      <th>likes_1</th>\n",
       "      <th>is_match_1</th>\n",
       "      <th>perc_match_1</th>\n",
       "    </tr>\n",
       "  </thead>\n",
       "  <tbody>\n",
       "    <tr>\n",
       "      <th>325</th>\n",
       "      <td>658</td>\n",
       "      <td>18</td>\n",
       "      <td>13</td>\n",
       "      <td>72.22</td>\n",
       "    </tr>\n",
       "    <tr>\n",
       "      <th>395</th>\n",
       "      <td>806</td>\n",
       "      <td>14</td>\n",
       "      <td>10</td>\n",
       "      <td>71.43</td>\n",
       "    </tr>\n",
       "    <tr>\n",
       "      <th>88</th>\n",
       "      <td>177</td>\n",
       "      <td>21</td>\n",
       "      <td>15</td>\n",
       "      <td>71.43</td>\n",
       "    </tr>\n",
       "    <tr>\n",
       "      <th>456</th>\n",
       "      <td>911</td>\n",
       "      <td>20</td>\n",
       "      <td>14</td>\n",
       "      <td>70.00</td>\n",
       "    </tr>\n",
       "    <tr>\n",
       "      <th>18</th>\n",
       "      <td>32</td>\n",
       "      <td>23</td>\n",
       "      <td>16</td>\n",
       "      <td>69.57</td>\n",
       "    </tr>\n",
       "  </tbody>\n",
       "</table>\n",
       "</div>"
      ],
      "text/plain": [
       "     user_id_1  likes_1  is_match_1  perc_match_1\n",
       "325        658       18          13         72.22\n",
       "395        806       14          10         71.43\n",
       "88         177       21          15         71.43\n",
       "456        911       20          14         70.00\n",
       "18          32       23          16         69.57"
      ]
     },
     "execution_count": 16,
     "metadata": {},
     "output_type": "execute_result"
    }
   ],
   "source": [
    "#посчитаем, сколько лайков приходится на каждого уникального пользователя в тестовой группе (1) \n",
    "likes_users_1 = dating_data_df.query('group == 1') \\\n",
    "              .groupby('user_id_1', as_index=False) \\\n",
    "              .agg({'user_id_2':'count', 'is_match':'sum'}) \\\n",
    "              .rename(columns={'user_id_2':'likes_1', 'is_match':'is_match_1'}) \\\n",
    "              .assign(perc_match_1 = lambda x: x['is_match_1'] / x['likes_1'] * 100).round(2) \\\n",
    "              .sort_values('perc_match_1', ascending=False)\n",
    "likes_users_1.head()"
   ]
  },
  {
   "cell_type": "code",
   "execution_count": 17,
   "metadata": {},
   "outputs": [
    {
     "data": {
      "text/html": [
       "<div>\n",
       "<style scoped>\n",
       "    .dataframe tbody tr th:only-of-type {\n",
       "        vertical-align: middle;\n",
       "    }\n",
       "\n",
       "    .dataframe tbody tr th {\n",
       "        vertical-align: top;\n",
       "    }\n",
       "\n",
       "    .dataframe thead th {\n",
       "        text-align: right;\n",
       "    }\n",
       "</style>\n",
       "<table border=\"1\" class=\"dataframe\">\n",
       "  <thead>\n",
       "    <tr style=\"text-align: right;\">\n",
       "      <th></th>\n",
       "      <th>user_id_1</th>\n",
       "      <th>likes_1</th>\n",
       "      <th>is_match_1</th>\n",
       "      <th>perc_match_1</th>\n",
       "    </tr>\n",
       "  </thead>\n",
       "  <tbody>\n",
       "    <tr>\n",
       "      <th>count</th>\n",
       "      <td>499.000000</td>\n",
       "      <td>499.000000</td>\n",
       "      <td>499.000000</td>\n",
       "      <td>499.000000</td>\n",
       "    </tr>\n",
       "    <tr>\n",
       "      <th>mean</th>\n",
       "      <td>503.641283</td>\n",
       "      <td>19.482966</td>\n",
       "      <td>7.833667</td>\n",
       "      <td>40.234569</td>\n",
       "    </tr>\n",
       "    <tr>\n",
       "      <th>std</th>\n",
       "      <td>288.590839</td>\n",
       "      <td>2.991489</td>\n",
       "      <td>2.481738</td>\n",
       "      <td>11.410606</td>\n",
       "    </tr>\n",
       "    <tr>\n",
       "      <th>min</th>\n",
       "      <td>1.000000</td>\n",
       "      <td>11.000000</td>\n",
       "      <td>0.000000</td>\n",
       "      <td>0.000000</td>\n",
       "    </tr>\n",
       "    <tr>\n",
       "      <th>25%</th>\n",
       "      <td>257.500000</td>\n",
       "      <td>18.000000</td>\n",
       "      <td>6.000000</td>\n",
       "      <td>33.330000</td>\n",
       "    </tr>\n",
       "    <tr>\n",
       "      <th>50%</th>\n",
       "      <td>509.000000</td>\n",
       "      <td>20.000000</td>\n",
       "      <td>8.000000</td>\n",
       "      <td>40.000000</td>\n",
       "    </tr>\n",
       "    <tr>\n",
       "      <th>75%</th>\n",
       "      <td>757.500000</td>\n",
       "      <td>22.000000</td>\n",
       "      <td>9.000000</td>\n",
       "      <td>47.620000</td>\n",
       "    </tr>\n",
       "    <tr>\n",
       "      <th>max</th>\n",
       "      <td>1000.000000</td>\n",
       "      <td>29.000000</td>\n",
       "      <td>16.000000</td>\n",
       "      <td>72.220000</td>\n",
       "    </tr>\n",
       "  </tbody>\n",
       "</table>\n",
       "</div>"
      ],
      "text/plain": [
       "         user_id_1     likes_1  is_match_1  perc_match_1\n",
       "count   499.000000  499.000000  499.000000    499.000000\n",
       "mean    503.641283   19.482966    7.833667     40.234569\n",
       "std     288.590839    2.991489    2.481738     11.410606\n",
       "min       1.000000   11.000000    0.000000      0.000000\n",
       "25%     257.500000   18.000000    6.000000     33.330000\n",
       "50%     509.000000   20.000000    8.000000     40.000000\n",
       "75%     757.500000   22.000000    9.000000     47.620000\n",
       "max    1000.000000   29.000000   16.000000     72.220000"
      ]
     },
     "execution_count": 17,
     "metadata": {},
     "output_type": "execute_result"
    }
   ],
   "source": [
    "likes_users_1.describe()"
   ]
  },
  {
   "cell_type": "markdown",
   "metadata": {},
   "source": [
    "В группе пользователей нового алгоритма в среднем на пользователя приходится почти 19.5 активностей, а соотношение мэтчей ко всем лайкам - 40.2 (1 из 2-3 лайков заканчивается взаимным мэтчем). Также у нас есть единичные пользователи, у которых количество активностей больше 22 и процент мэтчей больше 50%. И только 1 пользователь, у которого не было мэтчей в принципе и 11 активностей."
   ]
  },
  {
   "cell_type": "code",
   "execution_count": 19,
   "metadata": {},
   "outputs": [
    {
     "data": {
      "image/png": "[encoded data removed]",
      "text/plain": [
       "<Figure size 864x432 with 2 Axes>"
      ]
     },
     "metadata": {
      "needs_background": "light"
     },
     "output_type": "display_data"
    }
   ],
   "source": [
    "fig, axs = plt.subplots(1, 2, figsize=(12, 6))\n",
    "\n",
    "# Первый график - количество мэтчей\n",
    "sns.histplot(likes_users_1['likes_1'], ax=axs[0])\n",
    "axs[0].set_title('Количество активностей на пользователя тестовой группы')\n",
    "axs[0].set_ylabel('Количество пользователей')\n",
    "axs[0].set_xlabel('Количество мэтчей')\n",
    "\n",
    "# Второй график - процент мэтчей\n",
    "sns.histplot(likes_users_1['perc_match_1'], ax=axs[1])\n",
    "axs[1].set_title('Доля мэтчей тестовой группы')\n",
    "axs[1].set_ylabel('Количество пользователей')\n",
    "axs[1].set_xlabel('Процент мэтчей')\n",
    "\n",
    "plt.show()\n"
   ]
  },
  {
   "cell_type": "code",
   "execution_count": 38,
   "metadata": {},
   "outputs": [
    {
     "name": "stdout",
     "output_type": "stream",
     "text": [
      "Среднее количество активностей на пользователей контрольной группы: 9.56\n",
      "Среднее количество активностей на пользователей тестовой группы: 19.48\n",
      "Средняя доля мэтчей на пользователя контрольной группы: 19.41\n",
      "Средняя доля мэтчей на пользователя  тестовой группы: 40.23\n"
     ]
    }
   ],
   "source": [
    "#выведем средние обоих групп по количеству активностей и проценту мэтчей\n",
    "likes_0 = likes_users_0['likes_0'].mean().round(2)\n",
    "perc_0 = likes_users_0['perc_match_0'].mean().round(2)\n",
    "\n",
    "likes_1 = likes_users_1['likes_1'].mean().round(2)\n",
    "perc_1 = likes_users_1['perc_match_1'].mean().round(2)\n",
    "\n",
    "print('Среднее количество активностей на пользователей контрольной группы:', likes_0)\n",
    "print('Среднее количество активностей на пользователей тестовой группы:', likes_1)\n",
    "print('Средняя доля мэтчей на пользователя контрольной группы:', perc_0)\n",
    "print('Средняя доля мэтчей на пользователя  тестовой группы:', perc_1)"
   ]
  },
  {
   "cell_type": "markdown",
   "metadata": {},
   "source": [
    "#### Промежуточные выводы\n",
    "Предварительно, результаты тестовой группы показывают, что новый алгоритм повысил среднее количество активностей для пользователи почти в 2 раза - с 9.6 активностей до 19.5 активностей. Соотношение мэтчей ко всем действиям пользователя (все поставленные лайки) также увеличилось - с 19.4% до 40.2%. \n",
    "\n",
    "- В тестовой группе для пользователя почти половина лайков завершаются взаимным мэтчем при использовании нового алгоритма. \n",
    "- В контрольной группе для пользователя только четверть всех лайков завершаются взаимным мэтчем при использовании старого алгоритма. Но требуется статистическая проверка данных, чтобы подтвердить или опровергнуть значимость полученных изменений. "
   ]
  },
  {
   "cell_type": "markdown",
   "metadata": {},
   "source": [
    "### Статистические тесты\n",
    "У нас достаточно большая выборка пользователей, которые относятся к контрольной группе - 501 пользователь. На таком объеме выборки проверка на нормальность распределения не требуется, рассмотрим только на распределение дисперсии (гомогенность двух выборок). Это нужно, чтобы мы в дальнейшем могли использовать t-test для сравнения метрики среднего количества мэтчей на пользователя в двух группах и среднего отношений мэтча ко всем лайкам. Уровень значимости будем рассматривать в 5%\n",
    "- Нулевая гипотеза при сравнении распределения дисперсий в двух группах по метрике среднего количества активностей дисперсии двух выборок равны, то есть группы имеют гомогенные дисперсии\n",
    "- Альтернативная гипотеза - дисперсии двух групп отличаются "
   ]
  },
  {
   "cell_type": "code",
   "execution_count": 27,
   "metadata": {},
   "outputs": [
    {
     "name": "stdout",
     "output_type": "stream",
     "text": [
      "Статистика теста Левена: 134.17424158182058\n",
      "p-значение теста Левена: 3.3545479435181664e-29\n"
     ]
    }
   ],
   "source": [
    "# тест Левена\n",
    "statistic, p_value = levene(likes_users_0['is_match_0'], likes_users_1['is_match_1'])\n",
    "# Вывод результатов теста\n",
    "print('Статистика теста Левена:', statistic)\n",
    "print('p-значение теста Левена:', p_value)"
   ]
  },
  {
   "cell_type": "markdown",
   "metadata": {},
   "source": [
    "Полученное значение p-value значительно меньше заданного уровня значимости в 5%. Поэтому мы отвергаем нулевую гипотезу и делаем вывод о неоднородности дисперсий между группами. В этом случае мы будем использовать t-критерий Уэлча при проверки гипотезы о разности среднего количества мэтчей в группах"
   ]
  },
  {
   "cell_type": "markdown",
   "metadata": {},
   "source": [
    "Теперь проверим распределение дисперсий двух групп по метрике соотношение мэтчей ко всем лайкам.  Уровень значимости будем рассматривать в 5% Нулевая гипотеза при сравнении распределения дисперсий в двух группах по метрике среднего соотношения мэтчей ко всем лайкам - дисперсии двух выборок равны, то есть группы имеют гомогенные дисперсии"
   ]
  },
  {
   "cell_type": "code",
   "execution_count": 28,
   "metadata": {},
   "outputs": [
    {
     "name": "stdout",
     "output_type": "stream",
     "text": [
      "Статистика теста Левена: 10.35301414674427\n",
      "p-значение теста Левена: 0.001334252506064048\n"
     ]
    }
   ],
   "source": [
    "statistic, p_value = levene(likes_users_0['perc_match_0'], likes_users_1['perc_match_1'])\n",
    "# Вывод результатов теста\n",
    "print('Статистика теста Левена:', statistic)\n",
    "print('p-значение теста Левена:', p_value)"
   ]
  },
  {
   "cell_type": "markdown",
   "metadata": {},
   "source": [
    "Полученное значение p-value  меньше заданного уровня значимости в 5%. Поэтому мы отвергаем нулевую гипотезу и делаем вывод о неоднородности дисперсий между группами. В этом случае мы будем использовать t-критерий Уэлча при проверки гипотезы среднего соотношения мэтчей ко всем лайкам"
   ]
  },
  {
   "cell_type": "markdown",
   "metadata": {},
   "source": [
    "### Теперь перейдем к статистической проверке наших продуктовых гипотез\n",
    "\n",
    "**1. Новый алгоритм предлагает пользователям более подходящие анкеты, чем старый алгоритм. Это увеличило соотношение мэтчей ко всем лайкам за счет того, что пользователи получали взаимный лайк от других быстрее (им требовалось меньше действий, чем пользователям из контрольной группы).**\n",
    "\n",
    "Мы будем использовать t-критерий Уэлча для проверки гипотезы среднего соотношения мэтчей ко всем лайкам. Уровень значимости - 5%\n",
    "Нулевая гипотеза - средние значения двух выборок равны. \n",
    "Альтернативная гипотеза - есть статистически значимые различия между группами."
   ]
  },
  {
   "cell_type": "code",
   "execution_count": 29,
   "metadata": {},
   "outputs": [
    {
     "name": "stdout",
     "output_type": "stream",
     "text": [
      "Статистика t-критерия Уэлча: -26.42772295832559\n",
      "p-значение t-критерия Уэлча: 1.8186187616685096e-116\n"
     ]
    }
   ],
   "source": [
    "statistic, p_value = ttest_ind(likes_users_0['perc_match_0'], likes_users_1['perc_match_1'], equal_var=False)\n",
    "\n",
    "# Вывод результатов теста\n",
    "print('Статистика t-критерия Уэлча:', statistic)\n",
    "print('p-значение t-критерия Уэлча:', p_value)"
   ]
  },
  {
   "cell_type": "markdown",
   "metadata": {},
   "source": [
    "P-значение значительно меньше выбранного уровня значимости (менее 5%), то мы отвергаем нулевую гипотезу в пользу альтернативной.\n",
    "Таким образом, между средними значениями соотношения мэтчей ко всем лайкам контрольной и тестовой группах есть статистически значимые различия. "
   ]
  },
  {
   "cell_type": "markdown",
   "metadata": {},
   "source": [
    "Таким образом, новый алгоритм увеличил метрику соотношение мэтчей ко всем лайкам пользователя почти в 2 раза  - 40.2% от всех лайков пользователя заканчиваются взаимным мэтчем, в то время как при использовании старого алгоритма только 19.4% лайков переходили во взаимные мэтчи. Новый алгоритм позволяет пользователям через меньшее количество действий (лайков другим пользователей) познакомиться с другим пользователями. Это может положительно влиять на оценку приложения пользователем и его желание рекомендовать сервис другим потенциальным пользователям.  "
   ]
  },
  {
   "cell_type": "markdown",
   "metadata": {},
   "source": [
    "**2. Благодаря новому алгоритму среднее число активностей на пользователя увеличилось**\n",
    "\n",
    "Мы будем использовать t-критерий Уэлча для проверки гипотезы о равенстве среднего количества мэтчей ко всем лайкам в двух группах. Уровень значимости - 5% Нулевая гипотеза - средние значения двух выборок равны. Альтернативная гипотеза - есть статистически значимые различия между группами."
   ]
  },
  {
   "cell_type": "code",
   "execution_count": 30,
   "metadata": {},
   "outputs": [
    {
     "name": "stdout",
     "output_type": "stream",
     "text": [
      "Статистика t-критерия Уэлча: -51.8560698275145\n",
      "p-значение t-критерия Уэлча: 2.005368786100045e-285\n"
     ]
    }
   ],
   "source": [
    "statistic, p_value = ttest_ind(likes_users_0['likes_0'], likes_users_1['likes_1'], equal_var=False)\n",
    "# Вывод результатов теста\n",
    "print('Статистика t-критерия Уэлча:', statistic)\n",
    "print('p-значение t-критерия Уэлча:', p_value)"
   ]
  },
  {
   "cell_type": "markdown",
   "metadata": {},
   "source": [
    "P-значение значительно меньше выбранного уровня значимости (менее 5%), то мы отвергаем нулевую гипотезу в пользу альтернативной. Таким образом, между средними значениями количества мэтчей  контрольной и тестовой группах есть статистически значимые различия."
   ]
  },
  {
   "cell_type": "markdown",
   "metadata": {},
   "source": [
    "### Выводы"
   ]
  },
  {
   "cell_type": "markdown",
   "metadata": {},
   "source": [
    "Таким образом, новый алгоритм увеличил метрику среднее количество активностей на пользователя в 2 раза - теперь пользователь в среднем совершает 19.5 активностей (=лайков), чем при использовании старого алгоритма (9.6 активностей)\n",
    "Доля мэтчей пользователя также увеличилась благодаря новому алгоритму - теперь 40% активностей заканчиваются взаимным мэтчем. При использовании старого алгоритма только 19.5% лайков заканчивались взаимным мэтчем. Это может повлять на самооценку пользователя и его уверенность в себе. Позитивные эффекты от приложения могут повясить лояльность пользователя, он будет чаще пользоваться нашим продуктом и оставлять положительные оценки. \n"
   ]
  }
 ],
 "metadata": {
  "kernelspec": {
   "display_name": "Python 3",
   "language": "python",
   "name": "python3"
  },
  "language_info": {
   "codemirror_mode": {
    "name": "ipython",
    "version": 3
   },
   "file_extension": ".py",
   "mimetype": "text/x-python",
   "name": "python",
   "nbconvert_exporter": "python",
   "pygments_lexer": "ipython3",
   "version": "3.7.3"
  }
 },
 "nbformat": 4,
 "nbformat_minor": 4
}
